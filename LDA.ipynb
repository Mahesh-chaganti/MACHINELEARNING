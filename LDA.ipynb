{
  "nbformat": 4,
  "nbformat_minor": 0,
  "metadata": {
    "colab": {
      "name": "LDA.ipynb",
      "provenance": [],
      "collapsed_sections": [],
      "mount_file_id": "1yxphxxaX_NnTxlyV9-ipUQA6gxIz_E9c",
      "authorship_tag": "ABX9TyM31hLeazFKwz5BaQ0hTNgj",
      "include_colab_link": true
    },
    "kernelspec": {
      "name": "python3",
      "display_name": "Python 3"
    }
  },
  "cells": [
    {
      "cell_type": "markdown",
      "metadata": {
        "id": "view-in-github",
        "colab_type": "text"
      },
      "source": [
        "<a href=\"https://colab.research.google.com/github/SUNNYTHAKURCODE/MACHINELEARNING/blob/master/LDA.ipynb\" target=\"_parent\"><img src=\"https://colab.research.google.com/assets/colab-badge.svg\" alt=\"Open In Colab\"/></a>"
      ]
    },
    {
      "cell_type": "markdown",
      "metadata": {
        "id": "E8Vh0gCc_E6t",
        "colab_type": "text"
      },
      "source": [
        "AIM: TO IMPLEMENT LINEAR DISCRIMINANT ANALYSIS (LDA)"
      ]
    },
    {
      "cell_type": "markdown",
      "metadata": {
        "id": "H-C7EsAaChBe",
        "colab_type": "text"
      },
      "source": [
        "DATASET: Wine.csv"
      ]
    },
    {
      "cell_type": "markdown",
      "metadata": {
        "id": "VH22rvGy_Ylz",
        "colab_type": "text"
      },
      "source": [
        "Platform Used: Google colab"
      ]
    },
    {
      "cell_type": "markdown",
      "metadata": {
        "id": "8h0T9Bkq_iFb",
        "colab_type": "text"
      },
      "source": [
        "Theory :\n",
        "\n",
        "Linear Discriminant Analysis (LDA) method used to find a linear combination of features that characterizes or separates classes. The resulting combination is used for dimensionality reduction before classification.\n",
        "\n",
        "Though PCA (unsupervised) attempts to find the orthogonal component axes of maximum variance in a dataset, however, the goal of LDA (supervised) is to find the feature subspace that optimizes class separability.\n",
        "\n",
        "Listed below are the 5 general steps for performing a linear discriminant analysis;\n",
        "\n",
        "1. Compute the d-dimensional mean vectors for the different classes from the dataset.\n",
        "\n",
        "\n",
        "2. Compute the scatter matrices (in-between-class and within-class scatter matrix).\n",
        "\n",
        "\n",
        "3. Compute the eigenvectors (e1,e2,...,ed) and corresponding eigenvalues (λ1,λ2,...,λd) for the scatter matrices.\n",
        "\n",
        "\n",
        "4. Sort the eigenvectors by decreasing eigenvalues and choose k eigenvectors with the largest eigenvalues to form a d×k dimensional matrix W (where every column represents an eigenvector).\n",
        "\n",
        "\n",
        "5. Use this d×k eigenvector matrix to transform the samples onto the new subspace. This can be summarized by the matrix multiplication: Y=[X] **x**[W],(where X is a n×d-dimensional matrix representing the n samples, and y are the transformed n×k-dimensional samples in the new subspace).\n"
      ]
    },
    {
      "cell_type": "code",
      "metadata": {
        "id": "5cmUtVqx9YSL",
        "colab_type": "code",
        "outputId": "f830b5f2-57ed-4622-e382-10f5f172d733",
        "colab": {
          "base_uri": "https://localhost:8080/",
          "height": 34
        }
      },
      "source": [
        "# link google drive to google colab \n",
        "from google.colab import drive\n",
        "drive.mount('/content/drive')"
      ],
      "execution_count": 96,
      "outputs": [
        {
          "output_type": "stream",
          "text": [
            "Drive already mounted at /content/drive; to attempt to forcibly remount, call drive.mount(\"/content/drive\", force_remount=True).\n"
          ],
          "name": "stdout"
        }
      ]
    },
    {
      "cell_type": "code",
      "metadata": {
        "id": "5cHRpQfH9csi",
        "colab_type": "code",
        "outputId": "0f2472c9-1286-4d4c-c7cf-2f7e3f80162d",
        "colab": {
          "base_uri": "https://localhost:8080/",
          "height": 34
        }
      },
      "source": [
        "# change the working directory of your code on google drive\n",
        "%cd/content/drive/My Drive/Colab Notebooks/Python Practice"
      ],
      "execution_count": 97,
      "outputs": [
        {
          "output_type": "stream",
          "text": [
            "/content/drive/My Drive/Colab Notebooks/Python Practice\n"
          ],
          "name": "stdout"
        }
      ]
    },
    {
      "cell_type": "code",
      "metadata": {
        "id": "TfwojQD_9lqx",
        "colab_type": "code",
        "colab": {}
      },
      "source": [
        "import pandas as pd\n",
        "import numpy as np\n",
        "import matplotlib.pyplot as plt\n",
        "from matplotlib import style\n",
        "style.use('fivethirtyeight')\n",
        "from sklearn.model_selection import train_test_split\n",
        "from sklearn.neighbors import KNeighborsClassifier\n",
        "import seaborn as sns\n",
        "%matplotlib inline"
      ],
      "execution_count": 0,
      "outputs": []
    },
    {
      "cell_type": "code",
      "metadata": {
        "id": "TGuySUHDw_-m",
        "colab_type": "code",
        "outputId": "587b941a-e461-4632-cb05-007c589a1ce1",
        "colab": {
          "base_uri": "https://localhost:8080/",
          "height": 204
        }
      },
      "source": [
        "# 0. Load in the data and split the descriptive and the target feature\n",
        "df = pd.read_csv('wine.csv')\n",
        "\n",
        "X=df.iloc[:,1:].copy()\n",
        "target=df.iloc[:,0].copy()\n",
        "df.head()"
      ],
      "execution_count": 99,
      "outputs": [
        {
          "output_type": "execute_result",
          "data": {
            "text/html": [
              "<div>\n",
              "<style scoped>\n",
              "    .dataframe tbody tr th:only-of-type {\n",
              "        vertical-align: middle;\n",
              "    }\n",
              "\n",
              "    .dataframe tbody tr th {\n",
              "        vertical-align: top;\n",
              "    }\n",
              "\n",
              "    .dataframe thead th {\n",
              "        text-align: right;\n",
              "    }\n",
              "</style>\n",
              "<table border=\"1\" class=\"dataframe\">\n",
              "  <thead>\n",
              "    <tr style=\"text-align: right;\">\n",
              "      <th></th>\n",
              "      <th>Wine</th>\n",
              "      <th>Alcohol</th>\n",
              "      <th>Malic.acid</th>\n",
              "      <th>Ash</th>\n",
              "      <th>Acl</th>\n",
              "      <th>Mg</th>\n",
              "      <th>Phenols</th>\n",
              "      <th>Flavanoids</th>\n",
              "      <th>Nonflavanoid.phenols</th>\n",
              "      <th>Proanth</th>\n",
              "      <th>Color.int</th>\n",
              "      <th>Hue</th>\n",
              "      <th>OD</th>\n",
              "      <th>Proline</th>\n",
              "    </tr>\n",
              "  </thead>\n",
              "  <tbody>\n",
              "    <tr>\n",
              "      <th>0</th>\n",
              "      <td>1</td>\n",
              "      <td>14.23</td>\n",
              "      <td>1.71</td>\n",
              "      <td>2.43</td>\n",
              "      <td>15.6</td>\n",
              "      <td>127</td>\n",
              "      <td>2.80</td>\n",
              "      <td>3.06</td>\n",
              "      <td>0.28</td>\n",
              "      <td>2.29</td>\n",
              "      <td>5.64</td>\n",
              "      <td>1.04</td>\n",
              "      <td>3.92</td>\n",
              "      <td>1065</td>\n",
              "    </tr>\n",
              "    <tr>\n",
              "      <th>1</th>\n",
              "      <td>1</td>\n",
              "      <td>13.20</td>\n",
              "      <td>1.78</td>\n",
              "      <td>2.14</td>\n",
              "      <td>11.2</td>\n",
              "      <td>100</td>\n",
              "      <td>2.65</td>\n",
              "      <td>2.76</td>\n",
              "      <td>0.26</td>\n",
              "      <td>1.28</td>\n",
              "      <td>4.38</td>\n",
              "      <td>1.05</td>\n",
              "      <td>3.40</td>\n",
              "      <td>1050</td>\n",
              "    </tr>\n",
              "    <tr>\n",
              "      <th>2</th>\n",
              "      <td>1</td>\n",
              "      <td>13.16</td>\n",
              "      <td>2.36</td>\n",
              "      <td>2.67</td>\n",
              "      <td>18.6</td>\n",
              "      <td>101</td>\n",
              "      <td>2.80</td>\n",
              "      <td>3.24</td>\n",
              "      <td>0.30</td>\n",
              "      <td>2.81</td>\n",
              "      <td>5.68</td>\n",
              "      <td>1.03</td>\n",
              "      <td>3.17</td>\n",
              "      <td>1185</td>\n",
              "    </tr>\n",
              "    <tr>\n",
              "      <th>3</th>\n",
              "      <td>1</td>\n",
              "      <td>14.37</td>\n",
              "      <td>1.95</td>\n",
              "      <td>2.50</td>\n",
              "      <td>16.8</td>\n",
              "      <td>113</td>\n",
              "      <td>3.85</td>\n",
              "      <td>3.49</td>\n",
              "      <td>0.24</td>\n",
              "      <td>2.18</td>\n",
              "      <td>7.80</td>\n",
              "      <td>0.86</td>\n",
              "      <td>3.45</td>\n",
              "      <td>1480</td>\n",
              "    </tr>\n",
              "    <tr>\n",
              "      <th>4</th>\n",
              "      <td>1</td>\n",
              "      <td>13.24</td>\n",
              "      <td>2.59</td>\n",
              "      <td>2.87</td>\n",
              "      <td>21.0</td>\n",
              "      <td>118</td>\n",
              "      <td>2.80</td>\n",
              "      <td>2.69</td>\n",
              "      <td>0.39</td>\n",
              "      <td>1.82</td>\n",
              "      <td>4.32</td>\n",
              "      <td>1.04</td>\n",
              "      <td>2.93</td>\n",
              "      <td>735</td>\n",
              "    </tr>\n",
              "  </tbody>\n",
              "</table>\n",
              "</div>"
            ],
            "text/plain": [
              "   Wine  Alcohol  Malic.acid   Ash  ...  Color.int   Hue    OD  Proline\n",
              "0     1    14.23        1.71  2.43  ...       5.64  1.04  3.92     1065\n",
              "1     1    13.20        1.78  2.14  ...       4.38  1.05  3.40     1050\n",
              "2     1    13.16        2.36  2.67  ...       5.68  1.03  3.17     1185\n",
              "3     1    14.37        1.95  2.50  ...       7.80  0.86  3.45     1480\n",
              "4     1    13.24        2.59  2.87  ...       4.32  1.04  2.93      735\n",
              "\n",
              "[5 rows x 14 columns]"
            ]
          },
          "metadata": {
            "tags": []
          },
          "execution_count": 99
        }
      ]
    },
    {
      "cell_type": "code",
      "metadata": {
        "id": "uR4cdY061Tmp",
        "colab_type": "code",
        "outputId": "77e45ed5-e428-47a4-fdae-f098492d2aec",
        "colab": {
          "base_uri": "https://localhost:8080/",
          "height": 34
        }
      },
      "source": [
        "df.shape"
      ],
      "execution_count": 100,
      "outputs": [
        {
          "output_type": "execute_result",
          "data": {
            "text/plain": [
              "(178, 14)"
            ]
          },
          "metadata": {
            "tags": []
          },
          "execution_count": 100
        }
      ]
    },
    {
      "cell_type": "code",
      "metadata": {
        "id": "oQbqcrv8Vlzt",
        "colab_type": "code",
        "outputId": "59f916b6-df4e-478a-e1ae-7aaae65024b6",
        "colab": {
          "base_uri": "https://localhost:8080/",
          "height": 255
        }
      },
      "source": [
        "print(X.head())\n",
        "print(target.head())"
      ],
      "execution_count": 101,
      "outputs": [
        {
          "output_type": "stream",
          "text": [
            "   Alcohol  Malic.acid   Ash   Acl  ...  Color.int   Hue    OD  Proline\n",
            "0    14.23        1.71  2.43  15.6  ...       5.64  1.04  3.92     1065\n",
            "1    13.20        1.78  2.14  11.2  ...       4.38  1.05  3.40     1050\n",
            "2    13.16        2.36  2.67  18.6  ...       5.68  1.03  3.17     1185\n",
            "3    14.37        1.95  2.50  16.8  ...       7.80  0.86  3.45     1480\n",
            "4    13.24        2.59  2.87  21.0  ...       4.32  1.04  2.93      735\n",
            "\n",
            "[5 rows x 13 columns]\n",
            "0    1\n",
            "1    1\n",
            "2    1\n",
            "3    1\n",
            "4    1\n",
            "Name: Wine, dtype: int64\n"
          ],
          "name": "stdout"
        }
      ]
    },
    {
      "cell_type": "code",
      "metadata": {
        "id": "PZF7s9WMVyGX",
        "colab_type": "code",
        "colab": {}
      },
      "source": [
        "X_train, X_test, y_train, y_test = train_test_split(X,target,test_size=0.3,random_state=0) "
      ],
      "execution_count": 0,
      "outputs": []
    },
    {
      "cell_type": "code",
      "metadata": {
        "id": "OueMQkG1YMm5",
        "colab_type": "code",
        "outputId": "38f868db-bdba-4101-d67e-5877d839f7cd",
        "colab": {
          "base_uri": "https://localhost:8080/",
          "height": 34
        }
      },
      "source": [
        "np.unique(df['Wine'])"
      ],
      "execution_count": 103,
      "outputs": [
        {
          "output_type": "execute_result",
          "data": {
            "text/plain": [
              "array([1, 2, 3])"
            ]
          },
          "metadata": {
            "tags": []
          },
          "execution_count": 103
        }
      ]
    },
    {
      "cell_type": "code",
      "metadata": {
        "id": "DoonxWoZ4lDj",
        "colab_type": "code",
        "colab": {
          "base_uri": "https://localhost:8080/",
          "height": 51
        },
        "outputId": "2c9d4391-489a-44f1-803f-1764030de945"
      },
      "source": [
        "[s,f]=X.shape\n",
        "print('no. of feautres f:',f)\n",
        "print('no. of samples s :',s)"
      ],
      "execution_count": 104,
      "outputs": [
        {
          "output_type": "stream",
          "text": [
            "no. of feautres f: 13\n",
            "no. of samples s : 178\n"
          ],
          "name": "stdout"
        }
      ]
    },
    {
      "cell_type": "code",
      "metadata": {
        "id": "xvgMsaS5wddV",
        "colab_type": "code",
        "colab": {}
      },
      "source": [
        "# perform feautre Scaling\n",
        "from sklearn.preprocessing import StandardScaler\n",
        "sc = StandardScaler()\n",
        "X=sc.fit_transform(X)\n",
        "X_train = sc.fit_transform(X_train)\n",
        "X_test = sc.transform(X_test)"
      ],
      "execution_count": 0,
      "outputs": []
    },
    {
      "cell_type": "code",
      "metadata": {
        "id": "jrCJcJvPt38P",
        "colab_type": "code",
        "outputId": "5d26a6f9-531e-411a-8695-dbe7286f3117",
        "colab": {
          "base_uri": "https://localhost:8080/",
          "height": 170
        }
      },
      "source": [
        "#1. computing d dimensional mean vector for each class \n",
        "np.set_printoptions(precision=4)\n",
        "mean_vectors = []\n",
        "for cl in range(1,4):\n",
        "    mean_vectors.append(np.mean(X[target==cl], axis=0))\n",
        "    print('Mean Vector class %s: %s\\n' %(cl, mean_vectors[cl-1]))"
      ],
      "execution_count": 106,
      "outputs": [
        {
          "output_type": "stream",
          "text": [
            "Mean Vector class 1: [ 0.9192 -0.2923  0.3256 -0.738   0.4632  0.8734  0.9569 -0.579   0.5404\n",
            "  0.2034  0.4588  0.7714  1.1745]\n",
            "\n",
            "Mean Vector class 2: [-0.8917 -0.3624 -0.445   0.2231 -0.3646 -0.0581  0.0518  0.0146  0.069\n",
            " -0.8528  0.4336  0.2453 -0.7241]\n",
            "\n",
            "Mean Vector class 3: [ 0.1892  0.8953  0.2579  0.5771 -0.0301 -0.9876 -1.2528  0.6901 -0.7663\n",
            "  1.0114 -1.2054 -1.3109 -0.3726]\n",
            "\n"
          ],
          "name": "stdout"
        }
      ]
    },
    {
      "cell_type": "code",
      "metadata": {
        "id": "6pRjEcU4ub9c",
        "colab_type": "code",
        "outputId": "64cdf2fb-6713-49da-8177-ed7ea3902aa0",
        "colab": {
          "base_uri": "https://localhost:8080/",
          "height": 476
        }
      },
      "source": [
        "# 3. Compute the Scatter within class  matrices\n",
        "S_W = np.zeros((13,13))\n",
        "for cl,mv in zip(range(1,4), mean_vectors):\n",
        "    class_sc_mat = np.zeros((f,f))      # scatter matrix for every class\n",
        "    for row in X[target == cl]:\n",
        "        row, mv = row.reshape(f,1), mv.reshape(f,1) # make column vectors\n",
        "        class_sc_mat =class_sc_mat+ (row-mv).dot((row-mv).T)\n",
        "    S_W += class_sc_mat                 # sum class scatter matrices\n",
        "print('within-class Scatter Matrix:\\n', S_W)"
      ],
      "execution_count": 117,
      "outputs": [
        {
          "output_type": "stream",
          "text": [
            "within-class Scatter Matrix:\n",
            " [[ 69.9756   1.586  -10.5167  -6.3107   0.2722   9.3862   4.9117  -1.6993\n",
            "    6.3521  23.0461   0.7418  -1.5222   8.424 ]\n",
            " [  1.586  125.1573  12.2831  19.5649  -9.8093  -3.646   -1.484   12.8798\n",
            "    4.7349 -17.5794 -29.0382  10.324  -16.5377]\n",
            " [-10.5167  12.2831 154.4941  93.0013  30.9692  16.5741  19.2481  36.1874\n",
            "    3.0045   2.7101   6.5174   9.8587  -1.0205]\n",
            " [ -6.3107  19.5649  93.0013 126.347   11.9466   9.1457  13.0007  19.8655\n",
            "    8.5374  -2.314   -2.2665  16.7472  -5.4944]\n",
            " [  0.2722  -9.8093  30.9692  11.9466 155.8597  11.3629   8.2262 -28.4214\n",
            "   27.9955   9.4206   6.801   -4.8791  18.6351]\n",
            " [  9.3862  -3.646   16.5741   9.1457  11.3629  85.9391  45.4112 -17.4787\n",
            "   45.1227  24.1358  -1.8026  23.7094   7.4967]\n",
            " [  4.9117  -1.484   19.2481  13.0007   8.2262  45.4112  48.456  -21.6138\n",
            "   39.3387  21.7876  -3.2424  16.8405   1.9167]\n",
            " [ -1.6993  12.8798  36.1874  19.8655 -28.4214 -17.4787 -21.6138 135.346\n",
            "  -21.3484  -0.9215   8.4051 -20.0601  -2.2146]\n",
            " [  6.3521   4.7349   3.0045   8.5374  27.9955  45.1227  39.3387 -21.3484\n",
            "  132.2477  30.4003  -8.4828  18.3805  11.2115]\n",
            " [ 23.0461 -17.5794   2.7101  -2.314    9.4206  24.1358  21.7876  -0.9215\n",
            "   30.4003  74.8208 -13.6157  -7.0894  16.415 ]\n",
            " [  0.7418 -29.0382   6.5174  -2.2665   6.801   -1.8026  -3.2424   8.4051\n",
            "   -8.4828 -13.6157  82.4874  -3.6298  10.9806]\n",
            " [ -1.5222  10.324    9.8587  16.7472  -4.8791  23.7094  16.8405 -20.0601\n",
            "   18.3805  -7.0894  -3.6298  56.1317  -8.6133]\n",
            " [  8.424  -16.5377  -1.0205  -5.4944  18.6351   7.4967   1.9167  -2.2146\n",
            "   11.2115  16.415   10.9806  -8.6133  52.7215]]\n"
          ],
          "name": "stdout"
        }
      ]
    },
    {
      "cell_type": "code",
      "metadata": {
        "id": "VsbLFcm4y0PM",
        "colab_type": "code",
        "outputId": "f4bc7552-76e1-4929-f4f3-3e393ffb2498",
        "colab": {
          "base_uri": "https://localhost:8080/",
          "height": 697
        }
      },
      "source": [
        "# compute between class scatter matrix\n",
        "overall_mean = np.mean(X, axis=0)\n",
        "\n",
        "S_B = np.zeros((13,13))\n",
        "for i,mean_vec in enumerate(mean_vectors):  \n",
        "    n = X[target==i+1,:].shape[0]\n",
        "    mean_vec = mean_vec.reshape(13,1) # make column vector\n",
        "    overall_mean = overall_mean.reshape(13,1) # make column vector\n",
        "    S_B += n * (mean_vec - overall_mean).dot((mean_vec - overall_mean).T)\n",
        "\n",
        "print('between-class Scatter Matrix:\\n', S_B)"
      ],
      "execution_count": 108,
      "outputs": [
        {
          "output_type": "stream",
          "text": [
            "between-class Scatter Matrix:\n",
            " [[ 1.0802e+02  1.5217e+01  4.8172e+01 -4.8911e+01  4.7930e+01  4.2074e+01\n",
            "   3.7241e+01 -2.6056e+01  1.7980e+01  7.4207e+01 -1.3513e+01  1.4399e+01\n",
            "   1.0616e+02]\n",
            " [ 1.5217e+01  5.2843e+01  1.6917e+01  3.1788e+01  9.4933e-02 -5.6014e+01\n",
            "  -7.1675e+01  3.9270e+01 -4.4028e+01  6.1899e+01 -7.0872e+01 -7.5954e+01\n",
            "  -1.7640e+01]\n",
            " [ 4.8172e+01  1.6917e+01  2.3506e+01 -1.4082e+01  2.0043e+01  6.3843e+00\n",
            "   1.2357e+00 -3.0383e+00 -1.2864e+00  4.3372e+01 -1.9808e+01 -9.1625e+00\n",
            "   4.0826e+01]\n",
            " [-4.8911e+01  3.1788e+01 -1.4082e+01  5.1653e+01 -2.6780e+01 -6.6304e+01\n",
            "  -7.5544e+01  4.4557e+01 -4.3662e+01  5.6482e+00 -4.6497e+01 -6.6012e+01\n",
            "  -7.2932e+01]\n",
            " [ 4.7930e+01  9.4933e-02  2.0043e+01 -2.6780e+01  2.2140e+01  2.6800e+01\n",
            "   2.6623e+01 -1.7199e+01  1.4091e+01  2.6171e+01  3.0598e+00  1.6628e+01\n",
            "   5.1381e+01]\n",
            " [ 4.2074e+01 -5.6014e+01  6.3843e+00 -6.6304e+01  2.6800e+01  9.2061e+01\n",
            "   1.0848e+02 -6.2610e+01  6.3887e+01 -3.3950e+01  7.8998e+01  1.0088e+02\n",
            "   8.1168e+01]\n",
            " [ 3.7241e+01 -7.1675e+01  1.2357e+00 -7.5544e+01  2.6623e+01  1.0848e+02\n",
            "   1.2954e+02 -7.4132e+01  7.6840e+01 -5.2471e+01  9.9982e+01  1.2328e+02\n",
            "   8.6050e+01]\n",
            " [-2.6056e+01  3.9270e+01 -3.0383e+00  4.4557e+01 -1.7199e+01 -6.2610e+01\n",
            "  -7.4132e+01  4.2654e+01 -4.3772e+01  2.5674e+01 -5.5155e+01 -6.9522e+01\n",
            "  -5.3212e+01]\n",
            " [ 1.7980e+01 -4.4028e+01 -1.2864e+00 -4.3662e+01  1.4091e+01  6.3887e+01\n",
            "   7.6840e+01 -4.3772e+01  4.5752e+01 -3.4895e+01  6.1090e+01  7.4013e+01\n",
            "   4.7603e+01]\n",
            " [ 7.4207e+01  6.1899e+01  4.3372e+01  5.6482e+00  2.6171e+01 -3.3950e+01\n",
            "  -5.2471e+01  2.5674e+01 -3.4895e+01  1.0318e+02 -7.9267e+01 -6.9240e+01\n",
            "   3.9851e+01]\n",
            " [-1.3513e+01 -7.0872e+01 -1.9808e+01 -4.6497e+01  3.0598e+00  7.8998e+01\n",
            "   9.9982e+01 -5.5155e+01  6.1090e+01 -7.9267e+01  9.5513e+01  1.0428e+02\n",
            "   3.1060e+01]\n",
            " [ 1.4399e+01 -7.5954e+01 -9.1625e+00 -6.6012e+01  1.6628e+01  1.0088e+02\n",
            "   1.2328e+02 -6.9522e+01  7.4013e+01 -6.9240e+01  1.0428e+02  1.2187e+02\n",
            "   6.4285e+01]\n",
            " [ 1.0616e+02 -1.7640e+01  4.0826e+01 -7.2932e+01  5.1381e+01  8.1168e+01\n",
            "   8.6050e+01 -5.3212e+01  4.7603e+01  3.9851e+01  3.1060e+01  6.4285e+01\n",
            "   1.2528e+02]]\n"
          ],
          "name": "stdout"
        }
      ]
    },
    {
      "cell_type": "code",
      "metadata": {
        "id": "Qx7rtZiDzCfj",
        "colab_type": "code",
        "colab": {}
      },
      "source": [
        "# 4. Compute the Eigenvalues and Eigenvectors of SW^-1 SB\n",
        "eig_vals, eig_vecs = np.linalg.eig(np.linalg.inv(S_W).dot(S_B))"
      ],
      "execution_count": 0,
      "outputs": []
    },
    {
      "cell_type": "code",
      "metadata": {
        "id": "2sUNRpNlzT2-",
        "colab_type": "code",
        "colab": {}
      },
      "source": [
        "for i in range(len(eig_vals)):\n",
        "    eigvec_sc = eig_vecs[:,i].reshape(f,1)   \n",
        "    print('\\nEigenvector {}: \\n{}'.format(i+1, eigvec_sc.real))\n",
        "    print('Eigenvalue {:}: {:.2e}'.format(i+1, eig_vals[i].real))"
      ],
      "execution_count": 0,
      "outputs": []
    },
    {
      "cell_type": "code",
      "metadata": {
        "id": "B12VgZtizr4F",
        "colab_type": "code",
        "colab": {}
      },
      "source": [
        "for i in range(len(eig_vals)):\n",
        "    eigv = eig_vecs[:,i].reshape(f,1)\n",
        "    np.testing.assert_array_almost_equal(np.linalg.inv(S_W).dot(S_B).dot(eigv),\n",
        "                                         eig_vals[i] * eigv,\n",
        "                                         decimal=6, err_msg='', verbose=True)"
      ],
      "execution_count": 0,
      "outputs": []
    },
    {
      "cell_type": "code",
      "metadata": {
        "id": "kmaZ5lpXzrzF",
        "colab_type": "code",
        "outputId": "e9cef301-e574-45e7-efbd-b4a8a9deea97",
        "colab": {
          "base_uri": "https://localhost:8080/",
          "height": 272
        }
      },
      "source": [
        "# Make a list of (eigenvalue, eigenvector) tuples\n",
        "eig_pairs = [(np.abs(eig_vals[i]), eig_vecs[:,i]) for i in range(len(eig_vals))]\n",
        "\n",
        "# Sort the (eigenvalue, eigenvector) tuples from high to low\n",
        "eig_pairs = sorted(eig_pairs, key=lambda k: k[0], reverse=True)\n",
        "\n",
        "# Visually confirm that the list is correctly sorted by decreasing eigenvalues\n",
        "\n",
        "print('Eigenvalues in decreasing order:\\n')\n",
        "for i in eig_pairs:\n",
        "    print(i[0])"
      ],
      "execution_count": 112,
      "outputs": [
        {
          "output_type": "stream",
          "text": [
            "Eigenvalues in decreasing order:\n",
            "\n",
            "9.081739435042465\n",
            "4.128469045639482\n",
            "1.7763568394002505e-15\n",
            "1.5050671905118673e-15\n",
            "1.050998983578873e-15\n",
            "1.050998983578873e-15\n",
            "4.871296557640929e-16\n",
            "4.871296557640929e-16\n",
            "3.660117614131498e-16\n",
            "3.105318105859483e-16\n",
            "3.105318105859483e-16\n",
            "6.043622178796811e-17\n",
            "6.043622178796811e-17\n"
          ],
          "name": "stdout"
        }
      ]
    },
    {
      "cell_type": "code",
      "metadata": {
        "id": "_NgybWoLz_2y",
        "colab_type": "code",
        "outputId": "889dc812-40b5-4176-f300-f6ee6d867248",
        "colab": {
          "base_uri": "https://localhost:8080/",
          "height": 272
        }
      },
      "source": [
        "print('Variance explained:\\n')\n",
        "eigv_sum = sum(eig_vals)\n",
        "for i,j in enumerate(eig_pairs):\n",
        "    print('eigenvalue {0:}: {1:.2%}'.format(i+1, (j[0]/eigv_sum).real))"
      ],
      "execution_count": 113,
      "outputs": [
        {
          "output_type": "stream",
          "text": [
            "Variance explained:\n",
            "\n",
            "eigenvalue 1: 68.75%\n",
            "eigenvalue 2: 31.25%\n",
            "eigenvalue 3: 0.00%\n",
            "eigenvalue 4: 0.00%\n",
            "eigenvalue 5: 0.00%\n",
            "eigenvalue 6: 0.00%\n",
            "eigenvalue 7: 0.00%\n",
            "eigenvalue 8: 0.00%\n",
            "eigenvalue 9: 0.00%\n",
            "eigenvalue 10: 0.00%\n",
            "eigenvalue 11: 0.00%\n",
            "eigenvalue 12: 0.00%\n",
            "eigenvalue 13: 0.00%\n"
          ],
          "name": "stdout"
        }
      ]
    },
    {
      "cell_type": "code",
      "metadata": {
        "id": "E7w-N6HE0HD0",
        "colab_type": "code",
        "outputId": "e51a6c9d-425e-4694-ae3a-8e7fbda887f2",
        "colab": {
          "base_uri": "https://localhost:8080/",
          "height": 255
        }
      },
      "source": [
        "#k x d dimensional eigen vectormatrix W here 13 x 2 based on the 2 most informative eigenpairs\n",
        "W = np.hstack((eig_pairs[0][1].reshape(f,1), eig_pairs[1][1].reshape(f,1)))\n",
        "print('Matrix W:\\n', W.real)"
      ],
      "execution_count": 114,
      "outputs": [
        {
          "output_type": "stream",
          "text": [
            "Matrix W:\n",
            " [[-0.14   -0.4187]\n",
            " [ 0.0789 -0.2018]\n",
            " [-0.0433 -0.3807]\n",
            " [ 0.221   0.2892]\n",
            " [-0.0132  0.0039]\n",
            " [ 0.1654  0.0119]\n",
            " [-0.7095  0.2907]\n",
            " [-0.0796  0.1201]\n",
            " [ 0.0328  0.104 ]\n",
            " [ 0.352  -0.3473]\n",
            " [-0.08    0.2049]\n",
            " [-0.3514 -0.0215]\n",
            " [-0.3624 -0.5315]]\n"
          ],
          "name": "stdout"
        }
      ]
    },
    {
      "cell_type": "code",
      "metadata": {
        "id": "nFSZq4ZK0TLN",
        "colab_type": "code",
        "colab": {}
      },
      "source": [
        "X_lda = X.dot(W)\n",
        "assert X_lda.shape == (s,2) "
      ],
      "execution_count": 0,
      "outputs": []
    },
    {
      "cell_type": "code",
      "metadata": {
        "id": "SZAbL0BL1r4g",
        "colab_type": "code",
        "outputId": "9fc0a590-a75f-42c0-ff41-e3a738e120e0",
        "colab": {
          "base_uri": "https://localhost:8080/",
          "height": 296
        }
      },
      "source": [
        "from matplotlib import pyplot as plt\n",
        "\n",
        "def plot_step_lda():\n",
        "\n",
        "    ax = plt.subplot(111)\n",
        "\n",
        "\n",
        "  \n",
        "    for label,marker,color in zip(\n",
        "        range(1,4),('^', 's', 'o'),('blue', 'red', 'green')):\n",
        "\n",
        "        plt.scatter(x=X_lda[:,0].real[target == label],\n",
        "                y=X_lda[:,1].real[target == label],\n",
        "                marker=marker,\n",
        "                color=color,\n",
        "                alpha=0.5,\n",
        "                label=[label]\n",
        "                )\n",
        "\n",
        "    plt.xlabel('LD1')\n",
        "    plt.ylabel('LD2')\n",
        "\n",
        "    leg = plt.legend(loc='upper right', fancybox=True)\n",
        "    leg.get_frame().set_alpha(0.5)\n",
        "    plt.title('LDA: Wine projection onto the first 2 linear discriminants')\n",
        "\n",
        "    # hide axis ticks\n",
        "    plt.tick_params(axis=\"both\", which=\"both\", bottom=\"off\", top=\"off\",  \n",
        "            labelbottom=\"on\", left=\"off\", right=\"off\", labelleft=\"on\")\n",
        "\n",
        "    # remove axis spines\n",
        "    ax.spines[\"top\"].set_visible(False)  \n",
        "    ax.spines[\"right\"].set_visible(False)\n",
        "    ax.spines[\"bottom\"].set_visible(False)\n",
        "    ax.spines[\"left\"].set_visible(False)    \n",
        "\n",
        "    plt.grid()\n",
        "    plt.tight_layout\n",
        "    plt.show()\n",
        "\n",
        "plot_step_lda()"
      ],
      "execution_count": 116,
      "outputs": [
        {
          "output_type": "display_data",
          "data": {
            "image/png": "[encoded data removed]",
            "text/plain": [
              "<Figure size 432x288 with 1 Axes>"
            ]
          },
          "metadata": {
            "tags": [],
            "needs_background": "light"
          }
        }
      ]
    }
  ]
}